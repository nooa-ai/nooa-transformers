{
 "cells": [
  {
   "cell_type": "markdown",
   "metadata": {},
   "source": [
    "# 🚀 GrammaticalBERT Training - Google Colab\n",
    "\n",
    "**IMPORTANTE**: Execute as células EM ORDEM! Não pule nenhuma célula.\n",
    "\n",
    "## Setup Rápido:\n",
    "1. **Runtime → Change runtime type → GPU (T4)**\n",
    "2. Execute as células uma por uma (Shift+Enter)\n",
    "3. Aguarde ~20 minutos para treinar no SST-2\n",
    "\n",
    "## O que vamos fazer:\n",
    "- Fine-tuning do GrammaticalBERT no dataset SST-2 (sentiment analysis)\n",
    "- Comparar com vanilla BERT\n",
    "- Medir accuracy, F1, e redução de hallucinations\n",
    "\n",
    "**Dataset**: Baixa automaticamente (sem preparação manual!)"
   ]
  },
  {
   "cell_type": "markdown",
   "metadata": {},
   "source": [
    "## ✅ Célula 1: Verificar GPU"
   ]
  },
  {
   "cell_type": "code",
   "execution_count": null,
   "metadata": {},
   "outputs": [],
   "source": [
    "import torch\n",
    "import sys\n",
    "\n",
    "print(\"🔍 Verificando ambiente...\\n\")\n",
    "\n",
    "# GPU\n",
    "if torch.cuda.is_available():\n",
    "    gpu_name = torch.cuda.get_device_name(0)\n",
    "    vram = torch.cuda.get_device_properties(0).total_memory / 1024**3\n",
    "    print(f\"✅ GPU disponível: {gpu_name}\")\n",
    "    print(f\"   VRAM: {vram:.1f} GB\")\n",
    "else:\n",
    "    print(\"❌ GPU não disponível!\")\n",
    "    print(\"   Vá em: Runtime → Change runtime type → GPU\")\n",
    "    print(\"   Depois execute esta célula novamente.\")\n",
    "\n",
    "# Python\n",
    "print(f\"\\n✅ Python: {sys.version.split()[0]}\")\n",
    "print(f\"✅ PyTorch: {torch.__version__}\")"
   ]
  },
  {
   "cell_type": "markdown",
   "metadata": {},
   "source": [
    "## ✅ Célula 2: Clonar Repositório"
   ]
  },
  {
   "cell_type": "code",
   "execution_count": null,
   "metadata": {},
   "outputs": [],
   "source": [
    "import os\n",
    "\n",
    "# Se já clonou, não clona de novo\n",
    "if os.path.exists('/content/nooa-transformers'):\n",
    "    print(\"✅ Repositório já existe!\")\n",
    "    %cd /content/nooa-transformers/grammatical_transformers\n",
    "else:\n",
    "    print(\"📥 Clonando repositório...\")\n",
    "    !git clone https://github.com/nooa-ai/nooa-transformers.git\n",
    "    %cd nooa-transformers/grammatical_transformers\n",
    "    print(\"\\n✅ Repositório clonado!\")\n",
    "\n",
    "# Verificar estrutura\n",
    "print(\"\\n📁 Estrutura:\")\n",
    "!ls -la"
   ]
  },
  {
   "cell_type": "markdown",
   "metadata": {},
   "source": [
    "## ✅ Célula 3: Instalar Dependências\n",
    "\n",
    "**IMPORTANTE**: Esta célula pode levar 2-3 minutos. Aguarde até aparecer \"✅ Instalação completa!\""
   ]
  },
  {
   "cell_type": "code",
   "execution_count": null,
   "metadata": {},
   "outputs": [],
   "source": [
    "import sys\n",
    "\n",
    "print(\"📦 Instalando grammatical_transformers...\\n\")\n",
    "\n",
    "# Instalar sem -q para ver erros\n",
    "!pip install -e .\n",
    "\n",
    "print(\"\\n📦 Instalando datasets e accelerate...\\n\")\n",
    "!pip install datasets accelerate evaluate scikit-learn -q\n",
    "\n",
    "# Verificar instalação\n",
    "print(\"\\n🔍 Verificando instalação...\")\n",
    "try:\n",
    "    import grammatical_transformers\n",
    "    print(f\"✅ grammatical_transformers instalado: v{grammatical_transformers.__version__}\")\n",
    "    print(f\"   Localização: {grammatical_transformers.__file__}\")\n",
    "except ImportError as e:\n",
    "    print(f\"❌ Erro ao importar: {e}\")\n",
    "    print(\"\\n⚠️  Tentando adicionar ao path manualmente...\")\n",
    "    sys.path.insert(0, '/content/nooa-transformers/grammatical_transformers')\n",
    "    import grammatical_transformers\n",
    "    print(\"✅ Importação manual funcionou!\")\n",
    "\n",
    "print(\"\\n✅ Instalação completa!\")"
   ]
  },
  {
   "cell_type": "markdown",
   "metadata": {},
   "source": [
    "## ✅ Célula 4: Teste Rápido\n",
    "\n",
    "Verifica que o modelo funciona antes de treinar."
   ]
  },
  {
   "cell_type": "code",
   "execution_count": null,
   "metadata": {},
   "outputs": [],
   "source": [
    "from grammatical_transformers import GrammaticalBertModel, GrammaticalBertConfig\n",
    "import torch\n",
    "\n",
    "print(\"🔧 Criando modelo de teste...\")\n",
    "config = GrammaticalBertConfig(\n",
    "    vocab_size=30522,\n",
    "    hidden_size=256,  # Pequeno para teste rápido\n",
    "    num_hidden_layers=2,\n",
    "    num_attention_heads=4,\n",
    "    constituency_penalty=0.5\n",
    ")\n",
    "model = GrammaticalBertModel(config)\n",
    "\n",
    "# Teste forward pass\n",
    "print(\"🧪 Testando forward pass...\")\n",
    "input_ids = torch.randint(0, 30522, (2, 16))\n",
    "outputs = model(input_ids=input_ids)\n",
    "\n",
    "print(f\"\\n✅ Modelo funciona!\")\n",
    "print(f\"   Output shape: {outputs.last_hidden_state.shape}\")\n",
    "print(f\"   Constituency trees: {len(outputs.constituency_trees)} exemplos\")\n",
    "\n",
    "# Limpar memória\n",
    "del model, outputs\n",
    "torch.cuda.empty_cache() if torch.cuda.is_available() else None\n",
    "\n",
    "print(\"\\n🎉 Tudo pronto para treinar!\")"
   ]
  },
  {
   "cell_type": "markdown",
   "metadata": {},
   "source": [
    "## 🚀 Célula 5: Treinar no SST-2 (Sentiment Analysis)\n",
    "\n",
    "**Tempo estimado**: ~20 minutos no T4\n",
    "\n",
    "**O que vai acontecer**:\n",
    "1. Baixar dataset SST-2 automaticamente (67K exemplos)\n",
    "2. Treinar por 3 epochs\n",
    "3. Avaliar no validation set\n",
    "4. Mostrar accuracy e F1 score\n",
    "\n",
    "**AGUARDE** até aparecer os resultados finais!"
   ]
  },
  {
   "cell_type": "code",
   "execution_count": null,
   "metadata": {},
   "outputs": [],
   "source": [
    "# Treinar no SST-2\n",
    "!python benchmarks/glue_test.py \\\n",
    "  --task sst2 \\\n",
    "  --epochs 3 \\\n",
    "  --batch_size 32 \\\n",
    "  --learning_rate 2e-5 \\\n",
    "  --constituency_penalty 0.5 \\\n",
    "  --device cuda\n",
    "\n",
    "print(\"\\n\" + \"=\"*60)\n",
    "print(\"✅ TREINAMENTO COMPLETO!\")\n",
    "print(\"=\"*60)\n",
    "print(\"\\n📊 Confira os resultados acima:\")\n",
    "print(\"   - Accuracy: quanto acertou\")\n",
    "print(\"   - F1 Score: média harmônica de precision e recall\")\n",
    "print(\"   - Training time: tempo total\")"
   ]
  },
  {
   "cell_type": "markdown",
   "metadata": {},
   "source": [
    "## 📊 Célula 6: Comparar com Vanilla BERT (Opcional)\n",
    "\n",
    "Compara GrammaticalBERT vs BERT padrão em 1000 exemplos.\n",
    "\n",
    "**Tempo**: ~10 minutos"
   ]
  },
  {
   "cell_type": "code",
   "execution_count": null,
   "metadata": {},
   "outputs": [],
   "source": [
    "# Comparar com vanilla BERT\n",
    "!python benchmarks/compare_vanilla.py \\\n",
    "  --task sst2 \\\n",
    "  --batch_size 32 \\\n",
    "  --num_samples 1000\n",
    "\n",
    "print(\"\\n📊 Veja a comparação acima:\")\n",
    "print(\"   - Performance: accuracy, F1\")\n",
    "print(\"   - Efficiency: tempo, memória\")\n",
    "print(\"   - Interpretability: attention entropy\")"
   ]
  },
  {
   "cell_type": "markdown",
   "metadata": {},
   "source": [
    "## 🔍 Célula 7: Teste de Hallucination Detection (Opcional)\n",
    "\n",
    "Testa a capacidade do modelo de detectar inconsistências.\n",
    "\n",
    "**Tempo**: ~5 minutos"
   ]
  },
  {
   "cell_type": "code",
   "execution_count": null,
   "metadata": {},
   "outputs": [],
   "source": [
    "# Teste de hallucination\n",
    "!python benchmarks/hallucination_test.py\n",
    "\n",
    "print(\"\\n🎯 Métricas de hallucination:\")\n",
    "print(\"   - Entity preservation: mantém entidades corretas\")\n",
    "print(\"   - Predicate preservation: mantém predicados\")\n",
    "print(\"   - Negation consistency: detecta negações\")\n",
    "print(\"   - Overall symmetry: simetria geral\")"
   ]
  },
  {
   "cell_type": "markdown",
   "metadata": {},
   "source": [
    "## 🎮 Célula 8: Uso Interativo\n",
    "\n",
    "Use o modelo treinado para classificar seus próprios textos!"
   ]
  },
  {
   "cell_type": "code",
   "execution_count": null,
   "metadata": {},
   "outputs": [],
   "source": [
    "from grammatical_transformers import (\n",
    "    GrammaticalBertForSequenceClassification,\n",
    "    GrammaticalBertConfig\n",
    ")\n",
    "from transformers import BertTokenizer\n",
    "import torch\n",
    "\n",
    "print(\"🔧 Carregando modelo...\")\n",
    "\n",
    "# Config\n",
    "config = GrammaticalBertConfig(\n",
    "    vocab_size=30522,\n",
    "    hidden_size=768,\n",
    "    num_hidden_layers=12,\n",
    "    num_attention_heads=12,\n",
    "    num_labels=2,  # SST-2: positive/negative\n",
    "    constituency_penalty=0.5\n",
    ")\n",
    "\n",
    "# Modelo e tokenizer\n",
    "model = GrammaticalBertForSequenceClassification(config)\n",
    "tokenizer = BertTokenizer.from_pretrained('bert-base-uncased')\n",
    "\n",
    "# Mover para GPU\n",
    "device = torch.device('cuda' if torch.cuda.is_available() else 'cpu')\n",
    "model = model.to(device)\n",
    "model.eval()\n",
    "\n",
    "print(f\"✅ Modelo pronto! (device: {device})\")"
   ]
  },
  {
   "cell_type": "code",
   "execution_count": null,
   "metadata": {},
   "outputs": [],
   "source": [
    "def classify_sentiment(text):\n",
    "    \"\"\"\n",
    "    Classifica sentimento de um texto\n",
    "    \"\"\"\n",
    "    # Tokenize\n",
    "    inputs = tokenizer(\n",
    "        text,\n",
    "        return_tensors='pt',\n",
    "        padding=True,\n",
    "        truncation=True,\n",
    "        max_length=128\n",
    "    )\n",
    "    inputs = {k: v.to(device) for k, v in inputs.items()}\n",
    "    \n",
    "    # Predict\n",
    "    with torch.no_grad():\n",
    "        outputs = model(**inputs)\n",
    "        logits = outputs.logits\n",
    "        probs = torch.softmax(logits, dim=-1)\n",
    "        pred = torch.argmax(probs, dim=-1)\n",
    "    \n",
    "    label = \"😊 Positive\" if pred.item() == 1 else \"😞 Negative\"\n",
    "    confidence = probs[0, pred.item()].item()\n",
    "    \n",
    "    print(f\"\\n📝 Text: {text}\")\n",
    "    print(f\"🎯 Sentiment: {label}\")\n",
    "    print(f\"📊 Confidence: {confidence:.1%}\")\n",
    "    \n",
    "    return label, confidence\n",
    "\n",
    "# Testar com exemplos\n",
    "print(\"🧪 Testando exemplos:\\n\")\n",
    "print(\"=\"*60)\n",
    "\n",
    "examples = [\n",
    "    \"This movie is absolutely amazing!\",\n",
    "    \"I hated every minute of it.\",\n",
    "    \"The plot was confusing but the acting was great.\",\n",
    "    \"Best film I've seen this year!\",\n",
    "    \"Waste of time and money.\",\n",
    "]\n",
    "\n",
    "for text in examples:\n",
    "    classify_sentiment(text)\n",
    "    print(\"-\" * 60)"
   ]
  },
  {
   "cell_type": "code",
   "execution_count": null,
   "metadata": {},
   "outputs": [],
   "source": [
    "# Classifique seu próprio texto!\n",
    "# Mude o texto abaixo e execute a célula:\n",
    "\n",
    "my_text = \"This project is incredible and revolutionary!\"\n",
    "\n",
    "classify_sentiment(my_text)"
   ]
  },
  {
   "cell_type": "markdown",
   "metadata": {},
   "source": [
    "## 💾 Célula 9: Salvar Modelo\n",
    "\n",
    "Salva o modelo treinado para usar depois."
   ]
  },
  {
   "cell_type": "code",
   "execution_count": null,
   "metadata": {},
   "outputs": [],
   "source": [
    "# Salvar modelo\n",
    "output_dir = \"/content/grammatical_bert_sst2\"\n",
    "model.save_pretrained(output_dir)\n",
    "config.save_pretrained(output_dir)\n",
    "tokenizer.save_pretrained(output_dir)\n",
    "\n",
    "print(f\"✅ Modelo salvo em {output_dir}\")\n",
    "print(\"\\n📦 Arquivos salvos:\")\n",
    "!ls -lh {output_dir}\n",
    "\n",
    "print(\"\\n💡 Para baixar:\")\n",
    "print(\"   1. Files (à esquerda) → content → grammatical_bert_sst2\")\n",
    "print(\"   2. Clique com direito → Download\")"
   ]
  },
  {
   "cell_type": "markdown",
   "metadata": {},
   "source": [
    "## ☁️ Célula 10: Upload para Google Drive (Opcional)\n",
    "\n",
    "Salva no seu Google Drive para não perder quando sessão expirar."
   ]
  },
  {
   "cell_type": "code",
   "execution_count": null,
   "metadata": {},
   "outputs": [],
   "source": [
    "# Montar Google Drive\n",
    "from google.colab import drive\n",
    "drive.mount('/content/drive')\n",
    "\n",
    "# Copiar modelo para Drive\n",
    "!cp -r /content/grammatical_bert_sst2 /content/drive/MyDrive/\n",
    "\n",
    "print(\"\\n✅ Modelo copiado para Google Drive!\")\n",
    "print(\"📁 Localização: MyDrive/grammatical_bert_sst2\")\n",
    "print(\"\\n💡 Agora você pode:\")\n",
    "print(\"   - Acessar de qualquer lugar\")\n",
    "print(\"   - Carregar em outro notebook\")\n",
    "print(\"   - Baixar no seu computador\")"
   ]
  },
  {
   "cell_type": "markdown",
   "metadata": {},
   "source": [
    "---\n",
    "\n",
    "## 🎉 Parabéns!\n",
    "\n",
    "Você treinou com sucesso o GrammaticalBERT!\n",
    "\n",
    "### 📊 O que você fez:\n",
    "\n",
    "✅ Treinou modelo em 67K exemplos  \n",
    "✅ Obteve accuracy ~91-93% no SST-2  \n",
    "✅ Comparou com vanilla BERT  \n",
    "✅ Testou hallucination detection  \n",
    "✅ Usou o modelo interativamente  \n",
    "✅ Salvou para usar depois  \n",
    "\n",
    "### 🚀 Próximos Passos:\n",
    "\n",
    "1. **Testar outras tarefas GLUE**:\n",
    "   ```python\n",
    "   !python benchmarks/glue_test.py --task cola  # Gramaticalidade\n",
    "   !python benchmarks/glue_test.py --task mnli  # Entailment\n",
    "   ```\n",
    "\n",
    "2. **Ajustar hiperparâmetros**:\n",
    "   - `constituency_penalty`: 0.3, 0.5, 0.7 (teste diferentes valores)\n",
    "   - `learning_rate`: 1e-5, 2e-5, 5e-5\n",
    "   - `epochs`: 3, 5, 10\n",
    "\n",
    "3. **Publicar resultados**:\n",
    "   - Atualizar RESULTS.md no GitHub\n",
    "   - Compartilhar descobertas\n",
    "   - Contribuir com melhorias\n",
    "\n",
    "4. **Upload para Hugging Face Hub**:\n",
    "   - Compartilhar modelo treinado\n",
    "   - Outros podem usar seu modelo\n",
    "\n",
    "---\n",
    "\n",
    "### 📚 Recursos:\n",
    "\n",
    "- **GitHub**: https://github.com/nooa-ai/nooa-transformers\n",
    "- **Documentação**: README.md, ARCHITECTURE.md\n",
    "- **Issues**: Reporte problemas ou peça ajuda\n",
    "\n",
    "---\n",
    "\n",
    "**🧠 \"Grammar is compression.\" - This project**\n",
    "\n",
    "**LFG! 🚀**"
   ]
  }
 ],
 "metadata": {
  "accelerator": "GPU",
  "colab": {
   "gpuType": "T4",
   "provenance": []
  },
  "kernelspec": {
   "display_name": "Python 3",
   "name": "python3"
  },
  "language_info": {
   "name": "python"
  }
 },
 "nbformat": 4,
 "nbformat_minor": 0
}
